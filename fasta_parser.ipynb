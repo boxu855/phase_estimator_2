{
 "cells": [
  {
   "cell_type": "code",
   "execution_count": 69,
   "metadata": {},
   "outputs": [],
   "source": [
    "from Bio import SeqIO\n",
    "\n",
    "# fasta file to be parsed\n",
    "filepath = \"protein\\mismatch_col-0_LRR.fasta\"\n",
    "\n",
    "# iterator\n",
    "records = SeqIO.parse(filepath, \"fasta\")\n",
    "\n",
    "# writing each record to a separate file\n",
    "for record in records:\n",
    "    new_filepath = \"protein\\parsed_mismatch_col-0_LRR\\%s.fasta\"%record.id\n",
    "    \n",
    "    with open(new_filepath, \"w\") as f:\n",
    "        SeqIO.write(record, f, \"fasta\")"
   ]
  },
  {
   "cell_type": "code",
   "execution_count": 70,
   "metadata": {},
   "outputs": [],
   "source": [
    "if False:\n",
    "    for record in records:\n",
    "        print(record.id)\n",
    "        print(record.seq)"
   ]
  },
  {
   "cell_type": "code",
   "execution_count": null,
   "metadata": {},
   "outputs": [],
   "source": []
  }
 ],
 "metadata": {
  "kernelspec": {
   "display_name": "Python 3",
   "language": "python",
   "name": "python3"
  },
  "language_info": {
   "codemirror_mode": {
    "name": "ipython",
    "version": 3
   },
   "file_extension": ".py",
   "mimetype": "text/x-python",
   "name": "python",
   "nbconvert_exporter": "python",
   "pygments_lexer": "ipython3",
   "version": "3.9.12"
  },
  "orig_nbformat": 4
 },
 "nbformat": 4,
 "nbformat_minor": 2
}
