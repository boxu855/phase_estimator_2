{
 "cells": [
  {
   "cell_type": "code",
   "execution_count": 1,
   "id": "85ca2cc3",
   "metadata": {},
   "outputs": [],
   "source": [
    "from Bio.PDB import *\n",
    "from Bio.PDB.DSSP import DSSP\n",
    "from Bio.PDB.DSSP import dssp_dict_from_pdb_file\n",
    "from Bio import SeqIO\n",
    "\n",
    "import numpy as np\n",
    "import matplotlib.pyplot as plt\n",
    "from mpl_toolkits.mplot3d import Axes3D\n",
    "import numpy.linalg as linalg\n",
    "from scipy import sparse\n",
    "import scipy.signal\n",
    "from snf import *\n",
    "\n",
    "import gudhi as gd\n",
    "\n",
    "def getUnweightedLaplacianEigsDense(W):\n",
    "    D = sparse.dia_matrix((W.sum(1).flatten(), 0), W.shape).toarray()\n",
    "    L = D - W\n",
    "    try:\n",
    "        _, v = linalg.eigh(L)\n",
    "    except:\n",
    "        return np.zeros_like(W)\n",
    "    return v\n",
    "\n",
    "def get_csm(X, Y):\n",
    "    if len(X.shape) == 1:\n",
    "        X = X[:, None]\n",
    "    if len(Y.shape) == 1:\n",
    "        Y = Y[:, None]\n",
    "    C = np.sum(X**2, 1)[:, None] + np.sum(Y**2, 1)[None, :] - 2*X.dot(Y.T)\n",
    "    C[C < 0] = 0\n",
    "    return np.sqrt(C)\n",
    "\n",
    "\n",
    "def csm_to_binary(D, kappa):\n",
    "    N = D.shape[0]\n",
    "    M = D.shape[1]\n",
    "    if kappa == 0:\n",
    "        return np.ones_like(D)\n",
    "    elif kappa < 1:\n",
    "        NNeighbs = int(np.round(kappa*M))\n",
    "    else:\n",
    "        NNeighbs = kappa\n",
    "    J = np.argpartition(D, NNeighbs, 1)[:, 0:NNeighbs]\n",
    "    I = np.tile(np.arange(N)[:, None], (1, NNeighbs))\n",
    "    V = np.ones(I.size)\n",
    "    [I, J] = [I.flatten(), J.flatten()]\n",
    "    ret = sparse.coo_matrix((V, (I, J)), shape=(N, M), dtype=np.uint8)\n",
    "    return ret.toarray()\n",
    "\n",
    "def csm_to_binary_mutual(D, kappa):\n",
    "    return csm_to_binary(D, kappa)*(csm_to_binary(D.T, kappa).T)\n",
    "\n",
    "def sliding_window(dist, win):\n",
    "    N = D.shape[0]\n",
    "    dist_stack = np.zeros((N-win+1, N-win+1))\n",
    "    for i in range(0, win):\n",
    "        dist_stack += dist[i:i+N-win+1, i:i+N-win+1]\n",
    "    for i in range(N-win+1):\n",
    "        dist_stack[i, i] = 0\n",
    "    return dist_stack"
   ]
  },
  {
   "cell_type": "code",
   "execution_count": 8,
   "id": "bdc4d06a",
   "metadata": {},
   "outputs": [],
   "source": [
    "protid = \"6909_T154-R1\"\n",
    "clade = 'Int9878_431_495_R_323'\n",
    "\n",
    "parser = PDBParser()\n",
    "structure = parser.get_structure(protid, \"pdb/%s.pdb\"%protid)\n",
    "\n",
    "foundChain = False\n",
    "for model in structure:\n",
    "    for chain in model:\n",
    "        if chain.id == 'A':\n",
    "            foundChain = True\n",
    "            break\n",
    "    if foundChain:\n",
    "        break\n",
    "\n",
    "dssp = DSSP(model, \"pdb/%s.pdb\"%protid)\n",
    "beta = []\n",
    "for key in list(dssp.keys()):\n",
    "    if dssp[key][2] == 'E':\n",
    "        beta.append(dssp[key][0])\n",
    "\n",
    "for record in SeqIO.parse('orthogroup_LRR/%s-LRR.fa'%clade, 'fasta'):\n",
    "    if record.id.startswith(protid):    \n",
    "        LRR_start = int(record.name.split('|')[1])\n",
    "        LRR_len = int(len(record))        \n",
    "\n",
    "        print(LRR_start)\n",
    "        break\n",
    "            "
   ]
  },
  {
   "cell_type": "code",
   "execution_count": 9,
   "id": "89da78ee",
   "metadata": {},
   "outputs": [],
   "source": [
    "f = open(\"LRRPredictor/athaliana_panNLRome_lrrpred.txt\", \"r\")\n",
    "startrpred = []\n",
    "for line in f:\n",
    "        if line.split()[0] == protid:\n",
    "            startrpred.append(int(line.split()[1])-LRR_start)    \n",
    "f.close()"
   ]
  },
  {
   "cell_type": "code",
   "execution_count": 10,
   "id": "3056f3a7",
   "metadata": {},
   "outputs": [],
   "source": [
    "alpha_carbons = []\n",
    "for atom in chain.get_atoms():\n",
    "    if atom.id == 'CA':\n",
    "        alpha_carbons.append(np.array(list(atom.get_vector())))\n",
    "        \n",
    "X = np.array(alpha_carbons)\n",
    "np.savetxt('csv/%s.csv'%protid, X, delimiter=',')"
   ]
  },
  {
   "cell_type": "code",
   "execution_count": 11,
   "id": "21194796",
   "metadata": {},
   "outputs": [],
   "source": [
    "windowSize = 30\n",
    "totpers_l=[]\n",
    "for windowStart in range(X.shape[0]- windowSize-1):\n",
    "    Y = X[windowStart:windowStart+windowSize,:]\n",
    "    stree = gd.AlphaComplex(points = Y).create_simplex_tree()\n",
    "    dgm = stree.persistence()\n",
    "    dgm1_lens = [d-b for (dim, (b, d)) in dgm if dim == 1]\n",
    "    dgmstat = sum(dgm1_lens)\n",
    "    # gd.plot_persistence_diagram(dgm, legend = True)\n",
    "    totpers_l.append(dgmstat)\n"
   ]
  },
  {
   "cell_type": "code",
   "execution_count": 12,
   "id": "c996ea92",
   "metadata": {},
   "outputs": [
    {
     "data": {
      "text/plain": [
       "[<matplotlib.lines.Line2D at 0x2569cb1b7c0>]"
      ]
     },
     "execution_count": 12,
     "metadata": {},
     "output_type": "execute_result"
    },
    {
     "data": {
      "image/png": "[encoded data removed]",
      "text/plain": [
       "<Figure size 432x288 with 1 Axes>"
      ]
     },
     "metadata": {
      "needs_background": "light"
     },
     "output_type": "display_data"
    }
   ],
   "source": [
    "plt.plot(totpers_l)"
   ]
  },
  {
   "cell_type": "code",
   "execution_count": 13,
   "id": "081f44e9",
   "metadata": {},
   "outputs": [
    {
     "data": {
      "text/plain": [
       "[<matplotlib.lines.Line2D at 0x2569cebfd60>]"
      ]
     },
     "execution_count": 13,
     "metadata": {},
     "output_type": "execute_result"
    },
    {
     "data": {
      "image/png": "[encoded data removed]",
      "text/plain": [
       "<Figure size 432x288 with 1 Axes>"
      ]
     },
     "metadata": {
      "needs_background": "light"
     },
     "output_type": "display_data"
    }
   ],
   "source": [
    "period = 25\n",
    "\n",
    "def persistence(arr, win):\n",
    "    n = len(arr)\n",
    "    pers = []\n",
    " \n",
    "    for i in range(n - win + 1):\n",
    "        sum = 0\n",
    "        for j in range(win):\n",
    "           sum += arr[i + j]\n",
    "        pers.append(sum)\n",
    " \n",
    "    return pers\n",
    "\n",
    "totpers_2 = persistence(totpers_l, period)\n",
    "\n",
    "plt.plot(totpers_2)"
   ]
  },
  {
   "cell_type": "code",
   "execution_count": null,
   "id": "d2cbc8bc",
   "metadata": {},
   "outputs": [],
   "source": []
  }
 ],
 "metadata": {
  "kernelspec": {
   "display_name": "Python 3",
   "language": "python",
   "name": "python3"
  },
  "language_info": {
   "codemirror_mode": {
    "name": "ipython",
    "version": 3
   },
   "file_extension": ".py",
   "mimetype": "text/x-python",
   "name": "python",
   "nbconvert_exporter": "python",
   "pygments_lexer": "ipython3",
   "version": "3.9.12"
  },
  "vscode": {
   "interpreter": {
    "hash": "89039285f7a1055e0cf515ee4785e06586c58224fc52754d40d181844cd95b3f"
   }
  }
 },
 "nbformat": 4,
 "nbformat_minor": 5
}
